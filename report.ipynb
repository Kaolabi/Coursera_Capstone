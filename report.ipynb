{
 "cells": [
  {
   "cell_type": "markdown",
   "metadata": {},
   "source": [
    "# The comparison of young kids education resources in San Jose,CA and Fremont,CA"
   ]
  },
  {
   "cell_type": "markdown",
   "metadata": {},
   "source": [
    "### Introduction of San Jose and Fremont\n",
    "San Jose was founded on November 29, 1777, it is the  largest city in Northern California (both by population and area), with an estimated 2018 population of 1,030,119. \n",
    "\n",
    "San Jose Public Library is the largest public library system between San Francisco and Los Angeles. Its central library, Dr. Martin Luther King Jr. Library, is also the main library of the San Jose State University. As the result of a bond measure passed in November 2000, a number of new branches opened.\n",
    "\n",
    "Fremont is a city in Alameda County, California, United States. It is a young city incorporated on January 23, 1956. Located in the southeast San Francisco Bay Area and straddling both the East Bay and South Bay regions, Fremont has a rapidly-growing population of around 230,000. It is one of the largest cities by land area and the fourth most populous city in the San Francisco Bay Area, behind San Jose, San Francisco, and Oakland. The city has an extensive and rapidly expanding base of both tech industry and workers.\n",
    "\n",
    "Fremont and San Jose are two popular cities in the Bay Area, northern California. These two cities are the first choices of young couples when considering to settle down. My objective is to compare the resources in two cities for young kids (less than 5 years). Daycare facility data and library data will be used as indicators to compare two cities."
   ]
  },
  {
   "cell_type": "markdown",
   "metadata": {},
   "source": [
    "### Data\n",
    "Data of library and daycare is requested from foursquare API, which contains the name, latitude, longitude, and zip code of facilities. Latitude and longitude are used to locate on Folium map. Rows with null values are dropped. Two maps of two cities are generated to display the libraries and daycares in the city. Blue circles represent libraries and red circles represent daycares.\n"
   ]
  },
  {
   "cell_type": "markdown",
   "metadata": {},
   "source": [
    "### Methodology"
   ]
  },
  {
   "cell_type": "markdown",
   "metadata": {},
   "source": [
    "#### Libraries data pre-processing\n",
    "Libraries located 5,000 meters from center of San Jose(37.3361905, -121.8905833) was requested from foursquare API and saved as dataframe (df1) in notebook, 12 libaries located outside San Jose was deleted by\n",
    "_**df1 = df1[df2['location.city']=='Fremont'].reset_index(drop=True)**_. \n",
    "Libraries without zip code was dropped by \n",
    "_**df1.dropna(subset=['location.postalCode'],axis=0,inplace = True)**_\n",
    "\n",
    "Libaries located 5,000 meters from center of Fremont (37.5482697 -121.9885719) was requested from foursquare API and saved as dataframe (df2) in notebook, 1 library located in Newark was deleted by \n",
    "_**df2 = df2[df2['location.city'] == 'Fremont'].reset_index(drop=True).**_\n",
    "Libraries without zip code was dropped by \n",
    "_**df2.dropna(subset=['location.postalCode'],axis=0,inplace = True)**_.\n"
   ]
  },
  {
   "cell_type": "markdown",
   "metadata": {},
   "source": [
    "#### Daycare data pre-processing\n",
    "Daycare facilities located 5,000 meters from center of San Jose(37.3361905, -121.8905833) was requested from foursquare API and saved as dataframe (df3) in notebook.\n",
    "\n",
    "Daycare facilities located 5,000 meters from center of Fremont (37.5482697 -121.9885719) was requested from foursquare API and saved as dataframe (df4) in notebook."
   ]
  },
  {
   "cell_type": "markdown",
   "metadata": {},
   "source": [
    "#### Map creating\n",
    "**Folium** which powerful Python library that helping you creating several types of Leaflet maps was used to create map in notebook. Blue circles represent libraries and red circles represent daycares on map."
   ]
  },
  {
   "cell_type": "markdown",
   "metadata": {},
   "source": [
    "#### Library data analysis"
   ]
  },
  {
   "cell_type": "markdown",
   "metadata": {},
   "source": [
    "Library location data was grouped by zip code:  \n",
    "_**SJLzip = df1['location.postalCode'].value_counts().to_frame()**_\n",
    "\n",
    "_**SJLzip.columns=['Count']**_\n",
    "\n",
    "A bar plot was drawn to show library distribution: \n",
    "\n",
    "_**SJLzip.plot(kind='bar',figsize=(10,6), color='darkgreen')**_\n",
    "\n",
    "_**Each bar was marked with percentage:\n",
    "ax=SJLzip.plot(kind='bar', figsize=(16,7), width=0.8)\n",
    "ax.legend(prop={'size':14})\n",
    "ax.set_ylabel('Number of libraries',size = 14)\n",
    "ax.set_xlabel('Zip code',size=14)\n",
    "ax.set_title('Percentage of libraries in San Jose', size=16)\n",
    "totals = []\n",
    "for i in ax.patches:\n",
    "    totals.append(i.get_height())\n",
    "total = sum(totals)\n",
    "for i in ax.patches:\n",
    "    # get_x pulls left or right; get_height pushes up or down\n",
    "    ax.text(i.get_x()+0.03, i.get_height()+0.01, \\\n",
    "            str(round((i.get_height()/total)*100, 2))+'%', fontsize=10,\n",
    "                color='black')\n",
    "ax.spines['right'].set_visible(False)\n",
    "ax.spines['left'].set_visible(False)\n",
    "ax.spines['top'].set_visible(False)\n",
    "plt.show()**_\n"
   ]
  },
  {
   "cell_type": "markdown",
   "metadata": {},
   "source": [
    "### Result"
   ]
  },
  {
   "cell_type": "markdown",
   "metadata": {},
   "source": [
    "Thirty five public libraries located in city of San Jose. Area with zip code 95112 has most libraries, 42% of all libraries in San Jose. Seven public libraries in Fremont. \n",
    "\n",
    "Ten daycare facilities were found in San Jose and eleven daycare facilities were found in Fremont."
   ]
  },
  {
   "cell_type": "markdown",
   "metadata": {},
   "source": [
    "### Conclusion"
   ]
  },
  {
   "cell_type": "markdown",
   "metadata": {},
   "source": [
    "San Jose public library (SJPL) has a long history since 1872, with 35 libraries totally. 42% of libraries are located in downtown (zip code 95112)."
   ]
  },
  {
   "cell_type": "markdown",
   "metadata": {},
   "source": [
    "As a young city (incorporated in 1956), Fremont has only 7 public libraries.  "
   ]
  },
  {
   "cell_type": "code",
   "execution_count": null,
   "metadata": {},
   "outputs": [],
   "source": []
  }
 ],
 "metadata": {
  "kernelspec": {
   "display_name": "Python",
   "language": "python",
   "name": "conda-env-python-py"
  },
  "language_info": {
   "codemirror_mode": {
    "name": "ipython",
    "version": 3
   },
   "file_extension": ".py",
   "mimetype": "text/x-python",
   "name": "python",
   "nbconvert_exporter": "python",
   "pygments_lexer": "ipython3",
   "version": "3.6.7"
  }
 },
 "nbformat": 4,
 "nbformat_minor": 4
}
